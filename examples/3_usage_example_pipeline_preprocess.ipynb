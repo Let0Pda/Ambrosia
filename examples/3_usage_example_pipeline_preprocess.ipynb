{
    "cells": [
        {
            "cell_type": "markdown",
            "id": "40564e98",
            "metadata": {},
            "source": [
                "# Example of sequential usage of preprocessing classes"
            ]
        },
        {
            "cell_type": "code",
            "execution_count": 2,
            "id": "ad0eed0e",
            "metadata": {},
            "outputs": [],
            "source": [
                "import pandas as pd\n",
                "from tqdm.notebook import tqdm"
            ]
        },
        {
            "cell_type": "markdown",
            "id": "9e879555",
            "metadata": {},
            "source": [
                "## Load data"
            ]
        },
        {
            "cell_type": "code",
            "execution_count": 3,
            "id": "d242fc00",
            "metadata": {},
            "outputs": [
                {
                    "data": {
                        "text/html": [
                            "<div>\n",
                            "<style scoped>\n",
                            "    .dataframe tbody tr th:only-of-type {\n",
                            "        vertical-align: middle;\n",
                            "    }\n",
                            "\n",
                            "    .dataframe tbody tr th {\n",
                            "        vertical-align: top;\n",
                            "    }\n",
                            "\n",
                            "    .dataframe thead th {\n",
                            "        text-align: right;\n",
                            "    }\n",
                            "</style>\n",
                            "<table border=\"1\" class=\"dataframe\">\n",
                            "  <thead>\n",
                            "    <tr style=\"text-align: right;\">\n",
                            "      <th></th>\n",
                            "      <th>id</th>\n",
                            "      <th>gender</th>\n",
                            "      <th>watched</th>\n",
                            "      <th>audio</th>\n",
                            "      <th>day</th>\n",
                            "      <th>platform</th>\n",
                            "    </tr>\n",
                            "  </thead>\n",
                            "  <tbody>\n",
                            "    <tr>\n",
                            "      <th>0</th>\n",
                            "      <td>0</td>\n",
                            "      <td>Male</td>\n",
                            "      <td>7.912889</td>\n",
                            "      <td>2.210973</td>\n",
                            "      <td>1</td>\n",
                            "      <td>web</td>\n",
                            "    </tr>\n",
                            "    <tr>\n",
                            "      <th>1</th>\n",
                            "      <td>1</td>\n",
                            "      <td>Male</td>\n",
                            "      <td>6.678690</td>\n",
                            "      <td>0.020715</td>\n",
                            "      <td>1</td>\n",
                            "      <td>ios</td>\n",
                            "    </tr>\n",
                            "    <tr>\n",
                            "      <th>2</th>\n",
                            "      <td>2</td>\n",
                            "      <td>Female</td>\n",
                            "      <td>721.434299</td>\n",
                            "      <td>59.996870</td>\n",
                            "      <td>1</td>\n",
                            "      <td>ios</td>\n",
                            "    </tr>\n",
                            "    <tr>\n",
                            "      <th>3</th>\n",
                            "      <td>3</td>\n",
                            "      <td>Male</td>\n",
                            "      <td>135.248218</td>\n",
                            "      <td>18.982887</td>\n",
                            "      <td>1</td>\n",
                            "      <td>ios</td>\n",
                            "    </tr>\n",
                            "    <tr>\n",
                            "      <th>4</th>\n",
                            "      <td>4</td>\n",
                            "      <td>Female</td>\n",
                            "      <td>38.962917</td>\n",
                            "      <td>8.324667</td>\n",
                            "      <td>1</td>\n",
                            "      <td>android</td>\n",
                            "    </tr>\n",
                            "  </tbody>\n",
                            "</table>\n",
                            "</div>"
                        ],
                        "text/plain": [
                            "   id  gender     watched      audio  day platform\n",
                            "0   0    Male    7.912889   2.210973    1      web\n",
                            "1   1    Male    6.678690   0.020715    1      ios\n",
                            "2   2  Female  721.434299  59.996870    1      ios\n",
                            "3   3    Male  135.248218  18.982887    1      ios\n",
                            "4   4  Female   38.962917   8.324667    1  android"
                        ]
                    },
                    "execution_count": 3,
                    "metadata": {},
                    "output_type": "execute_result"
                }
            ],
            "source": [
                "dataframe = pd.read_csv('../tests/test_data/pipeline_test.csv')\n",
                "dataframe.head()"
            ]
        },
        {
            "cell_type": "markdown",
            "id": "b8773f43",
            "metadata": {},
            "source": [
                "Let's try to design an experiment on views of some content, with a priori information that the ``audio`` metric affects ``watched``"
            ]
        },
        {
            "cell_type": "markdown",
            "id": "74a516df",
            "metadata": {},
            "source": [
                "## ``Preprocessor`` class allows to perform sequential data transformations"
            ]
        },
        {
            "cell_type": "code",
            "execution_count": 4,
            "id": "5c3cf798",
            "metadata": {},
            "outputs": [],
            "source": [
            "ambroziarom ambrozia.preprocessing import Preprocessor"
            ]
        },
        {
            "cell_type": "code",
            "execution_count": 5,
            "id": "67f1413e",
            "metadata": {},
            "outputs": [],
            "source": [
                "transformer = Preprocessor(dataframe, verbose=True)"
            ]
        },
        {
            "cell_type": "code",
            "execution_count": 6,
            "id": "61e62bb9",
            "metadata": {},
            "outputs": [
                {
                    "name": "stderr",
                    "output_type": "stream",
                    "text": [
                        "ambrozia LOGGER: Make robust transformation with alpha = 0.001\n",
                        "ambrozia LOGGER: \n",
                        "\n",
                        "ambrozia LOGGER: Change Mean watched: 5343.8899 ===> 5315.7543\n",
                        "ambrozia LOGGER: Change Variance watched: 10951522.1717 ===> 10188504.7263\n",
                        "ambrozia LOGGER: Change IQR watched: 3958.8107 ===> 3937.3920\n",
                        "ambrozia LOGGER: Change Range watched: 35983.1570 ===> 20404.2903\n",
                        "ambrozia LOGGER: \n",
                        "\n",
                        "ambrozia LOGGER: Change Mean audio: 350.3962 ===> 349.8219\n",
                        "ambrozia LOGGER: Change Variance audio: 17724.3973 ===> 16951.7830\n",
                        "ambrozia LOGGER: Change IQR audio: 176.0167 ===> 175.1697\n",
                        "ambrozia LOGGER: Change Range audio: 1098.9677 ===> 777.8102\n",
                        "ambrozia LOGGER: After transformation СUPED for watched, the variance is 7.9445 % of the original\n",
                        "ambrozia LOGGER: Variance transformation 10190551.0217 ===> 809587.6709\n"
                    ]
                }
            ],
            "source": [
                "data = transformer.aggregate(groupby_columns='id', \n",
                "                             agg_params={\n",
                "                              'watched' : 'sum',\n",
                "                              'audio' : 'sum',\n",
                "                              'gender' : 'simple', # simple - choose the first possible value\n",
                "                              'platform' : 'mode'\n",
                "                          })\\\n",
                "                  .robust(['watched', 'audio'], alpha=0.001) \\\n",
                "                  .cuped('watched', by='audio', name='watched_cuped') \\\n",
                "                  .data()"
            ]
        },
        {
            "cell_type": "code",
            "execution_count": 7,
            "id": "2ad1962e",
            "metadata": {},
            "outputs": [
                {
                    "data": {
                        "text/html": [
                            "<div>\n",
                            "<style scoped>\n",
                            "    .dataframe tbody tr th:only-of-type {\n",
                            "        vertical-align: middle;\n",
                            "    }\n",
                            "\n",
                            "    .dataframe tbody tr th {\n",
                            "        vertical-align: top;\n",
                            "    }\n",
                            "\n",
                            "    .dataframe thead th {\n",
                            "        text-align: right;\n",
                            "    }\n",
                            "</style>\n",
                            "<table border=\"1\" class=\"dataframe\">\n",
                            "  <thead>\n",
                            "    <tr style=\"text-align: right;\">\n",
                            "      <th></th>\n",
                            "      <th>id</th>\n",
                            "      <th>watched</th>\n",
                            "      <th>audio</th>\n",
                            "      <th>gender</th>\n",
                            "      <th>platform</th>\n",
                            "      <th>watched_cuped</th>\n",
                            "    </tr>\n",
                            "  </thead>\n",
                            "  <tbody>\n",
                            "    <tr>\n",
                            "      <th>0</th>\n",
                            "      <td>0</td>\n",
                            "      <td>2489.224016</td>\n",
                            "      <td>213.817130</td>\n",
                            "      <td>Male</td>\n",
                            "      <td>web</td>\n",
                            "      <td>5688.285911</td>\n",
                            "    </tr>\n",
                            "    <tr>\n",
                            "      <th>1</th>\n",
                            "      <td>1</td>\n",
                            "      <td>3970.775664</td>\n",
                            "      <td>281.958297</td>\n",
                            "      <td>Male</td>\n",
                            "      <td>ios</td>\n",
                            "      <td>5567.041663</td>\n",
                            "    </tr>\n",
                            "    <tr>\n",
                            "      <th>2</th>\n",
                            "      <td>2</td>\n",
                            "      <td>5900.186483</td>\n",
                            "      <td>416.944150</td>\n",
                            "      <td>Female</td>\n",
                            "      <td>ios</td>\n",
                            "      <td>4321.356123</td>\n",
                            "    </tr>\n",
                            "    <tr>\n",
                            "      <th>3</th>\n",
                            "      <td>3</td>\n",
                            "      <td>5557.860998</td>\n",
                            "      <td>384.782010</td>\n",
                            "      <td>Male</td>\n",
                            "      <td>web</td>\n",
                            "      <td>4735.538754</td>\n",
                            "    </tr>\n",
                            "    <tr>\n",
                            "      <th>4</th>\n",
                            "      <td>4</td>\n",
                            "      <td>7588.374990</td>\n",
                            "      <td>448.263748</td>\n",
                            "      <td>Female</td>\n",
                            "      <td>android</td>\n",
                            "      <td>5272.854524</td>\n",
                            "    </tr>\n",
                            "    <tr>\n",
                            "      <th>...</th>\n",
                            "      <td>...</td>\n",
                            "      <td>...</td>\n",
                            "      <td>...</td>\n",
                            "      <td>...</td>\n",
                            "      <td>...</td>\n",
                            "      <td>...</td>\n",
                            "    </tr>\n",
                            "    <tr>\n",
                            "      <th>4995</th>\n",
                            "      <td>4995</td>\n",
                            "      <td>1647.603060</td>\n",
                            "      <td>167.552826</td>\n",
                            "      <td>Male</td>\n",
                            "      <td>web</td>\n",
                            "      <td>5934.879927</td>\n",
                            "    </tr>\n",
                            "    <tr>\n",
                            "      <th>4996</th>\n",
                            "      <td>4996</td>\n",
                            "      <td>7403.347846</td>\n",
                            "      <td>423.972130</td>\n",
                            "      <td>Female</td>\n",
                            "      <td>android</td>\n",
                            "      <td>5659.207480</td>\n",
                            "    </tr>\n",
                            "    <tr>\n",
                            "      <th>4997</th>\n",
                            "      <td>4997</td>\n",
                            "      <td>3243.170373</td>\n",
                            "      <td>287.159499</td>\n",
                            "      <td>Male</td>\n",
                            "      <td>android</td>\n",
                            "      <td>4717.095277</td>\n",
                            "    </tr>\n",
                            "    <tr>\n",
                            "      <th>4998</th>\n",
                            "      <td>4998</td>\n",
                            "      <td>12538.349029</td>\n",
                            "      <td>615.502371</td>\n",
                            "      <td>Female</td>\n",
                            "      <td>ios</td>\n",
                            "      <td>6289.092310</td>\n",
                            "    </tr>\n",
                            "    <tr>\n",
                            "      <th>4999</th>\n",
                            "      <td>4999</td>\n",
                            "      <td>2302.644537</td>\n",
                            "      <td>213.418724</td>\n",
                            "      <td>Female</td>\n",
                            "      <td>android</td>\n",
                            "      <td>5511.077639</td>\n",
                            "    </tr>\n",
                            "  </tbody>\n",
                            "</table>\n",
                            "<p>4980 rows × 6 columns</p>\n",
                            "</div>"
                        ],
                        "text/plain": [
                            "        id       watched       audio  gender platform  watched_cuped\n",
                            "0        0   2489.224016  213.817130    Male      web    5688.285911\n",
                            "1        1   3970.775664  281.958297    Male      ios    5567.041663\n",
                            "2        2   5900.186483  416.944150  Female      ios    4321.356123\n",
                            "3        3   5557.860998  384.782010    Male      web    4735.538754\n",
                            "4        4   7588.374990  448.263748  Female  android    5272.854524\n",
                            "...    ...           ...         ...     ...      ...            ...\n",
                            "4995  4995   1647.603060  167.552826    Male      web    5934.879927\n",
                            "4996  4996   7403.347846  423.972130  Female  android    5659.207480\n",
                            "4997  4997   3243.170373  287.159499    Male  android    4717.095277\n",
                            "4998  4998  12538.349029  615.502371  Female      ios    6289.092310\n",
                            "4999  4999   2302.644537  213.418724  Female  android    5511.077639\n",
                            "\n",
                            "[4980 rows x 6 columns]"
                        ]
                    },
                    "execution_count": 7,
                    "metadata": {},
                    "output_type": "execute_result"
                }
            ],
            "source": [
                "data"
            ]
        },
        {
            "cell_type": "markdown",
            "id": "92eef65e",
            "metadata": {},
            "source": [
                "### We can get a list of all transformations"
            ]
        },
        {
            "cell_type": "code",
            "execution_count": 8,
            "id": "8e94abaa",
            "metadata": {},
            "outputs": [
                {
                    "data": {
                        "text/plain": [
                            "[<ambrozia.preprocessing.aggregate.AggregatePreprocessor at 0x131b77c10>,\n",
                            " <ambrozia.preprocessing.robust.RobustPreprocessor at 0x129a28c40>,\n",
                            " <ambrozia.preprocessing.cuped.Cuped at 0x129b01d30>]"
                        ]
                    },
                    "execution_count": 8,
                    "metadata": {},
                    "output_type": "execute_result"
                }
            ],
            "source": [
                "transformer.transformations()"
            ]
        },
        {
            "cell_type": "markdown",
            "id": "76912bd4",
            "metadata": {},
            "source": [
                "### For transformations that are fitted, it is important to save their parameters"
            ]
        },
        {
            "cell_type": "code",
            "execution_count": 9,
            "id": "98577096",
            "metadata": {},
            "outputs": [
                {
                    "data": {
                        "text/plain": [
                            "{'theta': 23.521697221599357, 'bias': 349.821852624589}"
                        ]
                    },
                    "execution_count": 9,
                    "metadata": {},
                    "output_type": "execute_result"
                }
            ],
            "source": [
                "transformer.transformations()[2].get_params_dict()"
            ]
        },
        {
            "cell_type": "code",
            "execution_count": 10,
            "id": "8d48ca73",
            "metadata": {},
            "outputs": [],
            "source": [
                "transformer.transformations()[2].store_params('examples_configs/params_cuped.json')"
            ]
        },
        {
            "cell_type": "markdown",
            "id": "a56a5b8b",
            "metadata": {},
            "source": [
                "## Now let's design an experiment"
            ]
        },
        {
            "cell_type": "code",
            "execution_count": 11,
            "id": "45455a66",
            "metadata": {},
            "outputs": [],
            "source": [
                "from ambrozia.designer import Designer"
            ]
        },
        {
            "cell_type": "code",
            "execution_count": 12,
            "id": "1f3ba05d",
            "metadata": {},
            "outputs": [],
            "source": [
                "designer = Designer(dataframe=data, effects=1.05, first_type_errors=0.05, second_type_errors=0.7)"
            ]
        },
        {
            "cell_type": "code",
            "execution_count": 13,
            "id": "fd8e4870",
            "metadata": {},
            "outputs": [
                {
                    "data": {
                        "application/json": {
                            "ascii": false,
                            "bar_format": null,
                            "colour": null,
                            "elapsed": 0.02552008628845215,
                            "initial": 0,
                            "n": 0,
                            "ncols": null,
                            "nrows": 23,
                            "postfix": null,
                            "prefix": "Group sizes calculation",
                            "rate": null,
                            "total": 1,
                            "unit": "it",
                            "unit_divisor": 1000,
                            "unit_scale": false
                        },
                        "application/vnd.jupyter.widget-view+json": {
                            "model_id": "94441c33674a4a088f325a131143a5a6",
                            "version_major": 2,
                            "version_minor": 0
                        },
                        "text/plain": [
                            "Group sizes calculation:   0%|          | 0/1 [00:00<?, ?it/s]"
                        ]
                    },
                    "metadata": {},
                    "output_type": "display_data"
                },
                {
                    "data": {
                        "text/html": [
                            "<div>\n",
                            "<style scoped>\n",
                            "    .dataframe tbody tr th:only-of-type {\n",
                            "        vertical-align: middle;\n",
                            "    }\n",
                            "\n",
                            "    .dataframe tbody tr th {\n",
                            "        vertical-align: top;\n",
                            "    }\n",
                            "\n",
                            "    .dataframe thead th {\n",
                            "        text-align: right;\n",
                            "    }\n",
                            "</style>\n",
                            "<table border=\"1\" class=\"dataframe\">\n",
                            "  <thead>\n",
                            "    <tr style=\"text-align: right;\">\n",
                            "      <th>errors</th>\n",
                            "      <th>(0.05, 0.7)</th>\n",
                            "    </tr>\n",
                            "    <tr>\n",
                            "      <th>effect</th>\n",
                            "      <th></th>\n",
                            "    </tr>\n",
                            "  </thead>\n",
                            "  <tbody>\n",
                            "    <tr>\n",
                            "      <th>5.0%</th>\n",
                            "      <td>610.0</td>\n",
                            "    </tr>\n",
                            "  </tbody>\n",
                            "</table>\n",
                            "</div>"
                        ],
                        "text/plain": [
                            "errors  (0.05, 0.7)\n",
                            "effect             \n",
                            "5.0%          610.0"
                        ]
                    },
                    "execution_count": 13,
                    "metadata": {},
                    "output_type": "execute_result"
                }
            ],
            "source": [
                "designer.run('size', method='empiric', metrics='watched')"
            ]
        },
        {
            "cell_type": "code",
            "execution_count": 14,
            "id": "9dc52d26",
            "metadata": {},
            "outputs": [
                {
                    "data": {
                        "application/json": {
                            "ascii": false,
                            "bar_format": null,
                            "colour": null,
                            "elapsed": 0.020657062530517578,
                            "initial": 0,
                            "n": 0,
                            "ncols": null,
                            "nrows": 23,
                            "postfix": null,
                            "prefix": "Group sizes calculation",
                            "rate": null,
                            "total": 1,
                            "unit": "it",
                            "unit_divisor": 1000,
                            "unit_scale": false
                        },
                        "application/vnd.jupyter.widget-view+json": {
                            "model_id": "34bf050e5f394429a22a5d67fae9a776",
                            "version_major": 2,
                            "version_minor": 0
                        },
                        "text/plain": [
                            "Group sizes calculation:   0%|          | 0/1 [00:00<?, ?it/s]"
                        ]
                    },
                    "metadata": {},
                    "output_type": "display_data"
                },
                {
                    "data": {
                        "text/html": [
                            "<div>\n",
                            "<style scoped>\n",
                            "    .dataframe tbody tr th:only-of-type {\n",
                            "        vertical-align: middle;\n",
                            "    }\n",
                            "\n",
                            "    .dataframe tbody tr th {\n",
                            "        vertical-align: top;\n",
                            "    }\n",
                            "\n",
                            "    .dataframe thead th {\n",
                            "        text-align: right;\n",
                            "    }\n",
                            "</style>\n",
                            "<table border=\"1\" class=\"dataframe\">\n",
                            "  <thead>\n",
                            "    <tr style=\"text-align: right;\">\n",
                            "      <th>errors</th>\n",
                            "      <th>(0.05, 0.7)</th>\n",
                            "    </tr>\n",
                            "    <tr>\n",
                            "      <th>effect</th>\n",
                            "      <th></th>\n",
                            "    </tr>\n",
                            "  </thead>\n",
                            "  <tbody>\n",
                            "    <tr>\n",
                            "      <th>5.0%</th>\n",
                            "      <td>49.0</td>\n",
                            "    </tr>\n",
                            "  </tbody>\n",
                            "</table>\n",
                            "</div>"
                        ],
                        "text/plain": [
                            "errors  (0.05, 0.7)\n",
                            "effect             \n",
                            "5.0%           49.0"
                        ]
                    },
                    "execution_count": 14,
                    "metadata": {},
                    "output_type": "execute_result"
                }
            ],
            "source": [
                "designer.run('size', method='empiric', metrics='watched_cuped')"
            ]
        },
        {
            "cell_type": "markdown",
            "id": "c2d7e87a",
            "metadata": {},
            "source": [
                "## ambrozia library can be used not only as a tool, but also for conducting your own research\n",
                "## Let's check that this sample size will really be enough"
            ]
        },
        {
            "cell_type": "code",
            "execution_count": 15,
            "id": "eae4ca25",
            "metadata": {},
            "outputs": [
                {
                    "name": "stderr",
                    "output_type": "stream",
                    "text": [
                        "Your CPU supports instructions that this binary was not compiled to use: AVX2\n",
                        "For maximum performance, you can install NMSLIB from sources \n",
                        "pip install --no-binary :all: nmslib\n"
                    ]
                }
            ],
            "source": [
                "from ambrozia.preprocessing import Cuped\n",
                "from ambrozia.splitter import Splitter\n",
                "from ambrozia.tester import Tester"
            ]
        },
        {
            "cell_type": "code",
            "execution_count": 16,
            "id": "0b0c9afd",
            "metadata": {},
            "outputs": [],
            "source": [
                "transformer = Preprocessor(dataframe=dataframe)"
            ]
        },
        {
            "cell_type": "code",
            "execution_count": 17,
            "id": "eed10d01",
            "metadata": {},
            "outputs": [
                {
                    "name": "stderr",
                    "output_type": "stream",
                    "text": [
                        "ambrozia LOGGER: Make robust transformation with alpha = 0.001\n",
                        "ambrozia LOGGER: \n",
                        "\n",
                        "ambrozia LOGGER: Change Mean watched: 5343.8899 ===> 5315.7543\n",
                        "ambrozia LOGGER: Change Variance watched: 10951522.1717 ===> 10188504.7263\n",
                        "ambrozia LOGGER: Change IQR watched: 3958.8107 ===> 3937.3920\n",
                        "ambrozia LOGGER: Change Range watched: 35983.1570 ===> 20404.2903\n",
                        "ambrozia LOGGER: \n",
                        "\n",
                        "ambrozia LOGGER: Change Mean audio: 350.3962 ===> 349.8219\n",
                        "ambrozia LOGGER: Change Variance audio: 17724.3973 ===> 16951.7830\n",
                        "ambrozia LOGGER: Change IQR audio: 176.0167 ===> 175.1697\n",
                        "ambrozia LOGGER: Change Range audio: 1098.9677 ===> 777.8102\n"
                    ]
                }
            ],
            "source": [
                "data_exp = transformer.aggregate(groupby_columns='id', \n",
                "                                 agg_params={\n",
                "                                     'watched' : 'sum',\n",
                "                                     'audio' : 'sum',\n",
                "                                     'gender' : 'simple',\n",
                "                                     'platform' : 'mode'\n",
                "                                 }) \\\n",
                "                      .robust(['watched', 'audio'], alpha=0.001)\\\n",
                "                      .data()"
            ]
        },
        {
            "cell_type": "code",
            "execution_count": 18,
            "id": "275c4e85",
            "metadata": {},
            "outputs": [
                {
                    "data": {
                        "text/html": [
                            "<div>\n",
                            "<style scoped>\n",
                            "    .dataframe tbody tr th:only-of-type {\n",
                            "        vertical-align: middle;\n",
                            "    }\n",
                            "\n",
                            "    .dataframe tbody tr th {\n",
                            "        vertical-align: top;\n",
                            "    }\n",
                            "\n",
                            "    .dataframe thead th {\n",
                            "        text-align: right;\n",
                            "    }\n",
                            "</style>\n",
                            "<table border=\"1\" class=\"dataframe\">\n",
                            "  <thead>\n",
                            "    <tr style=\"text-align: right;\">\n",
                            "      <th></th>\n",
                            "      <th>id</th>\n",
                            "      <th>watched</th>\n",
                            "      <th>audio</th>\n",
                            "      <th>gender</th>\n",
                            "      <th>platform</th>\n",
                            "    </tr>\n",
                            "  </thead>\n",
                            "  <tbody>\n",
                            "    <tr>\n",
                            "      <th>0</th>\n",
                            "      <td>0</td>\n",
                            "      <td>2489.224016</td>\n",
                            "      <td>213.817130</td>\n",
                            "      <td>Male</td>\n",
                            "      <td>web</td>\n",
                            "    </tr>\n",
                            "    <tr>\n",
                            "      <th>1</th>\n",
                            "      <td>1</td>\n",
                            "      <td>3970.775664</td>\n",
                            "      <td>281.958297</td>\n",
                            "      <td>Male</td>\n",
                            "      <td>ios</td>\n",
                            "    </tr>\n",
                            "    <tr>\n",
                            "      <th>2</th>\n",
                            "      <td>2</td>\n",
                            "      <td>5900.186483</td>\n",
                            "      <td>416.944150</td>\n",
                            "      <td>Female</td>\n",
                            "      <td>ios</td>\n",
                            "    </tr>\n",
                            "    <tr>\n",
                            "      <th>3</th>\n",
                            "      <td>3</td>\n",
                            "      <td>5557.860998</td>\n",
                            "      <td>384.782010</td>\n",
                            "      <td>Male</td>\n",
                            "      <td>web</td>\n",
                            "    </tr>\n",
                            "    <tr>\n",
                            "      <th>4</th>\n",
                            "      <td>4</td>\n",
                            "      <td>7588.374990</td>\n",
                            "      <td>448.263748</td>\n",
                            "      <td>Female</td>\n",
                            "      <td>android</td>\n",
                            "    </tr>\n",
                            "    <tr>\n",
                            "      <th>...</th>\n",
                            "      <td>...</td>\n",
                            "      <td>...</td>\n",
                            "      <td>...</td>\n",
                            "      <td>...</td>\n",
                            "      <td>...</td>\n",
                            "    </tr>\n",
                            "    <tr>\n",
                            "      <th>4995</th>\n",
                            "      <td>4995</td>\n",
                            "      <td>1647.603060</td>\n",
                            "      <td>167.552826</td>\n",
                            "      <td>Male</td>\n",
                            "      <td>web</td>\n",
                            "    </tr>\n",
                            "    <tr>\n",
                            "      <th>4996</th>\n",
                            "      <td>4996</td>\n",
                            "      <td>7403.347846</td>\n",
                            "      <td>423.972130</td>\n",
                            "      <td>Female</td>\n",
                            "      <td>android</td>\n",
                            "    </tr>\n",
                            "    <tr>\n",
                            "      <th>4997</th>\n",
                            "      <td>4997</td>\n",
                            "      <td>3243.170373</td>\n",
                            "      <td>287.159499</td>\n",
                            "      <td>Male</td>\n",
                            "      <td>android</td>\n",
                            "    </tr>\n",
                            "    <tr>\n",
                            "      <th>4998</th>\n",
                            "      <td>4998</td>\n",
                            "      <td>12538.349029</td>\n",
                            "      <td>615.502371</td>\n",
                            "      <td>Female</td>\n",
                            "      <td>ios</td>\n",
                            "    </tr>\n",
                            "    <tr>\n",
                            "      <th>4999</th>\n",
                            "      <td>4999</td>\n",
                            "      <td>2302.644537</td>\n",
                            "      <td>213.418724</td>\n",
                            "      <td>Female</td>\n",
                            "      <td>android</td>\n",
                            "    </tr>\n",
                            "  </tbody>\n",
                            "</table>\n",
                            "<p>4980 rows × 5 columns</p>\n",
                            "</div>"
                        ],
                        "text/plain": [
                            "        id       watched       audio  gender platform\n",
                            "0        0   2489.224016  213.817130    Male      web\n",
                            "1        1   3970.775664  281.958297    Male      ios\n",
                            "2        2   5900.186483  416.944150  Female      ios\n",
                            "3        3   5557.860998  384.782010    Male      web\n",
                            "4        4   7588.374990  448.263748  Female  android\n",
                            "...    ...           ...         ...     ...      ...\n",
                            "4995  4995   1647.603060  167.552826    Male      web\n",
                            "4996  4996   7403.347846  423.972130  Female  android\n",
                            "4997  4997   3243.170373  287.159499    Male  android\n",
                            "4998  4998  12538.349029  615.502371  Female      ios\n",
                            "4999  4999   2302.644537  213.418724  Female  android\n",
                            "\n",
                            "[4980 rows x 5 columns]"
                        ]
                    },
                    "execution_count": 18,
                    "metadata": {},
                    "output_type": "execute_result"
                }
            ],
            "source": [
                "data_exp"
            ]
        },
        {
            "cell_type": "code",
            "execution_count": 19,
            "id": "2e9d0b2d",
            "metadata": {},
            "outputs": [
                {
                    "data": {
                        "application/json": {
                            "ascii": false,
                            "bar_format": null,
                            "colour": null,
                            "elapsed": 0.0176088809967041,
                            "initial": 0,
                            "n": 0,
                            "ncols": null,
                            "nrows": 23,
                            "postfix": null,
                            "prefix": "",
                            "rate": null,
                            "total": 500,
                            "unit": "it",
                            "unit_divisor": 1000,
                            "unit_scale": false
                        },
                        "application/vnd.jupyter.widget-view+json": {
                            "model_id": "f1d7c88dc052412dba957ac0f5849df7",
                            "version_major": 2,
                            "version_minor": 0
                        },
                        "text/plain": [
                            "  0%|          | 0/500 [00:00<?, ?it/s]"
                        ]
                    },
                    "metadata": {},
                    "output_type": "display_data"
                }
            ],
            "source": [
                "tests_amounts: int = 500\n",
                "group_size: int = 50\n",
                "amount_first_type_errors: int = 0\n",
                "alpha: float = 0.05\n",
                "    \n",
                "for exp_num in tqdm(range(tests_amounts)):\n",
                "    # Checking for I type error\n",
                "    splitter = Splitter(data_exp, fit_columns='audio')\n",
                "    groups = splitter.run(method='metric', salt=f'exp {exp_num}', groups_size=group_size, strat_columns='gender')\n",
                "    \n",
                "    transformer = Preprocessor(groups, verbose=False)\n",
                "    exp_data = transformer.cuped(\n",
                "        target='watched',\n",
                "        by='audio',\n",
                "        name='watched_cuped',\n",
                "        load_path='examples_configs/params_cuped.json').data()\n",
                "\n",
                "    tester = Tester(exp_data, metrics='watched_cuped', column_groups='group')\n",
                "    pvalue = tester.run(method='empiric')['pvalue']\n",
                "    amount_first_type_errors += (pvalue < alpha) # Reject equality of means when it is true"
            ]
        },
        {
            "cell_type": "code",
            "execution_count": 20,
            "id": "075bf40c",
            "metadata": {},
            "outputs": [
                {
                    "name": "stdout",
                    "output_type": "stream",
                    "text": [
                        "Empirical I type error: 0.038\n"
                    ]
                }
            ],
            "source": [
                "print('Empirical I type error: {}'.format(amount_first_type_errors.loc[0] / tests_amounts))"
            ]
        }
    ],
    "metadata": {
        "kernelspec": {
            "display_name": "Python 3 (ipykernel)",
            "language": "python",
            "name": "python3"
        },
        "language_info": {
            "codemirror_mode": {
                "name": "ipython",
                "version": 3
            },
            "file_extension": ".py",
            "mimetype": "text/x-python",
            "name": "python",
            "nbconvert_exporter": "python",
            "pygments_lexer": "ipython3",
            "version": "3.9.6"
        }
    },
    "nbformat": 4,
    "nbformat_minor": 5
}
